#TEAM 25 DL ENDSEM SEM6 PROJECT PYTHON CODE

#the given code is executed in google colab
# the 'fire.zip' folder provided should be uploaded in the same directory where this code is running.

#1. bringing in the YOLOv5 model to the environment where code is running
!git clone https://github.com/spacewalk01/Yolov5-Fire-Detection
%cd Yolov5-Fire-Detection

# Install yolov5
!git clone https://github.com/ultralytics/yolov5
%cd yolov5
!pip install -r requirements.txt

#2. for this code and all the following code snippets, which are labelled #2.,these code snippets are for opening the creator's google drive account,
#where the fire.zip folder is stored for the creator of this code,and unzipping it from there.
#these code blocks labelled #2. need not be used when you, the end user, are running this code in your system after directly uploading the fire.zip folder
#in the running environment and unzipping it.
#In the last two lines,"!unzip "/content/gdrive/My Drive"/fire.zip", and,
#"!unzip "/content/gdrive/My Drive"/fire.zip -d /content/Yolov5-Fire-Detection/datasets", the text '/content/gdrive/My Drive' can be replaced with the path of
#where your fire.zip folder is saved.
from google.colab import drive
drive.mount('/content/gdrive')

#2.
!unzip "/content/gdrive/My Drive"/fire.zip

#2.
!unzip "/content/gdrive/My Drive"/fire.zip -d /content/Yolov5-Fire-Detection/datasets

#3. training the DL model
!python train.py --img 640 --batch 16 --epochs 3 --data ../fire_config.yaml --weights yolov5s.pt --workers 1

#4. Testing the model
!python detect.py --source ../input.mp4 --weights runs/train/exp/weights/best.pt --conf 0.2

#5. Plotting the Results
from utils.plots import plot_results
plot_results('runs/train/exp/results.csv')

#6. Validating our model
!python detect.py --weights runs/train/exp/weights/best.pt --img 640 --conf 0.25 --source ../datasets/fire/val/images/
