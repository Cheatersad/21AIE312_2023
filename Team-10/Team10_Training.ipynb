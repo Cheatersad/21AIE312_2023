{
  "cells": [
    {
      "cell_type": "code",
      "execution_count": null,
      "metadata": {
        "id": "_NlM6E21IbNC"
      },
      "outputs": [],
      "source": [
        "import tensorflow as tf\n",
        "from tensorflow import keras\n",
        "from tensorflow.keras.layers import Input, Conv2D, MaxPooling2D, Activation, ReLU\n",
        "from tensorflow.keras.layers import BatchNormalization, Conv2DTranspose, Concatenate\n",
        "from tensorflow.keras.models import Model, Sequential\n",
        "import numpy as np"
      ]
    },
    {
      "cell_type": "code",
      "execution_count": null,
      "metadata": {
        "colab": {
          "base_uri": "https://localhost:8080/"
        },
        "id": "q1FUt2d2P_8l",
        "outputId": "551a2d35-149f-43a3-e16e-6a4ce27db95d"
      },
      "outputs": [
        {
          "output_type": "stream",
          "name": "stdout",
          "text": [
            "Model: \"model\"\n",
            "__________________________________________________________________________________________________\n",
            " Layer (type)                   Output Shape         Param #     Connected to                     \n",
            "==================================================================================================\n",
            " input_1 (InputLayer)           [(None, 512, 512, 3  0           []                               \n",
            "                                )]                                                                \n",
            "                                                                                                  \n",
            " conv2d (Conv2D)                (None, 512, 512, 64  1792        ['input_1[0][0]']                \n",
            "                                )                                                                 \n",
            "                                                                                                  \n",
            " conv2d_1 (Conv2D)              (None, 512, 512, 64  36928       ['conv2d[0][0]']                 \n",
            "                                )                                                                 \n",
            "                                                                                                  \n",
            " max_pooling2d (MaxPooling2D)   (None, 256, 256, 64  0           ['conv2d_1[0][0]']               \n",
            "                                )                                                                 \n",
            "                                                                                                  \n",
            " conv2d_2 (Conv2D)              (None, 256, 256, 12  73856       ['max_pooling2d[0][0]']          \n",
            "                                8)                                                                \n",
            "                                                                                                  \n",
            " conv2d_3 (Conv2D)              (None, 256, 256, 12  147584      ['conv2d_2[0][0]']               \n",
            "                                8)                                                                \n",
            "                                                                                                  \n",
            " max_pooling2d_1 (MaxPooling2D)  (None, 128, 128, 12  0          ['conv2d_3[0][0]']               \n",
            "                                8)                                                                \n",
            "                                                                                                  \n",
            " conv2d_4 (Conv2D)              (None, 128, 128, 25  295168      ['max_pooling2d_1[0][0]']        \n",
            "                                6)                                                                \n",
            "                                                                                                  \n",
            " conv2d_5 (Conv2D)              (None, 128, 128, 25  590080      ['conv2d_4[0][0]']               \n",
            "                                6)                                                                \n",
            "                                                                                                  \n",
            " max_pooling2d_2 (MaxPooling2D)  (None, 64, 64, 256)  0          ['conv2d_5[0][0]']               \n",
            "                                                                                                  \n",
            " conv2d_transpose (Conv2DTransp  (None, 128, 128, 25  262400     ['max_pooling2d_2[0][0]']        \n",
            " ose)                           6)                                                                \n",
            "                                                                                                  \n",
            " concatenate (Concatenate)      (None, 128, 128, 51  0           ['conv2d_transpose[0][0]',       \n",
            "                                2)                                'conv2d_5[0][0]']               \n",
            "                                                                                                  \n",
            " conv2d_6 (Conv2D)              (None, 128, 128, 25  1179904     ['concatenate[0][0]']            \n",
            "                                6)                                                                \n",
            "                                                                                                  \n",
            " conv2d_7 (Conv2D)              (None, 128, 128, 25  590080      ['conv2d_6[0][0]']               \n",
            "                                6)                                                                \n",
            "                                                                                                  \n",
            " conv2d_transpose_1 (Conv2DTran  (None, 256, 256, 12  131200     ['conv2d_7[0][0]']               \n",
            " spose)                         8)                                                                \n",
            "                                                                                                  \n",
            " concatenate_1 (Concatenate)    (None, 256, 256, 25  0           ['conv2d_transpose_1[0][0]',     \n",
            "                                6)                                'conv2d_3[0][0]']               \n",
            "                                                                                                  \n",
            " conv2d_8 (Conv2D)              (None, 256, 256, 12  295040      ['concatenate_1[0][0]']          \n",
            "                                8)                                                                \n",
            "                                                                                                  \n",
            " conv2d_9 (Conv2D)              (None, 256, 256, 12  147584      ['conv2d_8[0][0]']               \n",
            "                                8)                                                                \n",
            "                                                                                                  \n",
            " conv2d_transpose_2 (Conv2DTran  (None, 512, 512, 2)  1026       ['conv2d_9[0][0]']               \n",
            " spose)                                                                                           \n",
            "                                                                                                  \n",
            "==================================================================================================\n",
            "Total params: 3,752,642\n",
            "Trainable params: 3,752,642\n",
            "Non-trainable params: 0\n",
            "__________________________________________________________________________________________________\n"
          ]
        }
      ],
      "source": [
        "import tensorflow as tf\n",
        "from tensorflow.keras.layers import Conv2D, MaxPooling2D, Conv2DTranspose, UpSampling2D, Concatenate\n",
        "from tensorflow.keras.models import Sequential\n",
        "\n",
        "def convolution_operation(input_layer, filters):\n",
        "    conv = Conv2D(filters, kernel_size=(3, 3), padding=\"same\", activation=\"relu\")(input_layer)\n",
        "    conv = Conv2D(filters, kernel_size=(3, 3), padding=\"same\", activation=\"relu\")(conv)\n",
        "    return conv\n",
        "\n",
        "def encoder(entered_input, filters=64):\n",
        "    enc1 = convolution_operation(entered_input, filters)\n",
        "    MaxPool1 = MaxPooling2D(strides=(2, 2))(enc1)\n",
        "    return enc1, MaxPool1\n",
        "\n",
        "def decoder(entered_input, skip, filters=64):\n",
        "    Upsample = Conv2DTranspose(filters, (2, 2), strides=2, padding=\"same\")(entered_input)\n",
        "    Connect_Skip = Concatenate()([Upsample, skip])\n",
        "    out = convolution_operation(Connect_Skip, filters)\n",
        "    return out\n",
        "\n",
        "def FCNPool3(input_shape, num_classes):\n",
        "    inputs = tf.keras.Input(shape=input_shape)\n",
        "\n",
        "    # Encoder\n",
        "    enc1, MaxPool1 = encoder(inputs, filters=64)\n",
        "    enc2, MaxPool2 = encoder(MaxPool1, filters=128)\n",
        "    enc3, MaxPool3 = encoder(MaxPool2, filters=256)\n",
        "\n",
        "    # Decoder\n",
        "    dec1 = decoder(MaxPool3, enc3, filters=256)\n",
        "    dec2 = decoder(dec1, enc2, filters=128)\n",
        "\n",
        "    # Final convolution\n",
        "    outputs = Conv2DTranspose(num_classes, (2, 2), strides=2, padding=\"same\")(dec2)\n",
        "\n",
        "    model = tf.keras.Model(inputs=inputs, outputs=outputs)\n",
        "    return model\n",
        "\n",
        "# Define the input shape and number of classes\n",
        "input_shape = (512, 512, 3)\n",
        "num_classes = 2\n",
        "\n",
        "# Create an instance of the FCNPool3 model with skip connections\n",
        "model = FCNPool3(input_shape, num_classes)\n",
        "\n",
        "# Compile the model\n",
        "model.compile(optimizer='sgd', loss='binary_crossentropy', metrics=['accuracy'])\n",
        "\n",
        "# Print the model summary\n",
        "model.summary()"
      ]
    },
    {
      "cell_type": "code",
      "execution_count": null,
      "metadata": {
        "colab": {
          "base_uri": "https://localhost:8080/"
        },
        "id": "I5QJiyFGI0cA",
        "outputId": "fdb129bd-1d24-4000-f38d-0478ba4a48ca"
      },
      "outputs": [
        {
          "output_type": "stream",
          "name": "stdout",
          "text": [
            "Mounted at /content/drive\n",
            "Number of samples: 265\n",
            "/content/drive/My Drive/image/image/MaI14_003.jpg.png | /content/drive/My Drive/image/mask_custom11/mask_chunk_10_MaI14_003.jpg.png\n",
            "/content/drive/My Drive/image/image/MaI14_004.jpg.png | /content/drive/My Drive/image/mask_custom11/mask_chunk_10_MaI14_004.jpg.png\n",
            "/content/drive/My Drive/image/image/MaI14_005.jpg.png | /content/drive/My Drive/image/mask_custom11/mask_chunk_10_MaI14_005.jpg.png\n",
            "/content/drive/My Drive/image/image/MaI14_006.jpg.png | /content/drive/My Drive/image/mask_custom11/mask_chunk_10_MaI14_006.jpg.png\n",
            "/content/drive/My Drive/image/image/MaI14_007.jpg.png | /content/drive/My Drive/image/mask_custom11/mask_chunk_10_MaI14_007.jpg.png\n",
            "/content/drive/My Drive/image/image/MaI14_008.jpg.png | /content/drive/My Drive/image/mask_custom11/mask_chunk_10_MaI14_008.jpg.png\n",
            "/content/drive/My Drive/image/image/MaI14_009.jpg.png | /content/drive/My Drive/image/mask_custom11/mask_chunk_10_MaI14_009.jpg.png\n",
            "/content/drive/My Drive/image/image/MaI14_010.jpg.png | /content/drive/My Drive/image/mask_custom11/mask_chunk_10_MaI14_010.jpg.png\n",
            "/content/drive/My Drive/image/image/MaI14_011.jpg.png | /content/drive/My Drive/image/mask_custom11/mask_chunk_10_MaI14_011.jpg.png\n",
            "/content/drive/My Drive/image/image/MaI14_012.jpg.png | /content/drive/My Drive/image/mask_custom11/mask_chunk_10_MaI14_012.jpg.png\n"
          ]
        }
      ],
      "source": [
        "import os\n",
        "from google.colab import drive\n",
        "drive.mount('/content/drive')\n",
        "input_dir = '/content/drive/My Drive/image/image'\n",
        "target_dir = '/content/drive/My Drive/image/mask_custom'\n",
        "img_size = (512, 512)\n",
        "num_classes = 2\n",
        "batch_size = 8\n",
        "input_img_paths = sorted(\n",
        "    [\n",
        "        os.path.join(input_dir, fname)\n",
        "        for fname in os.listdir(input_dir)\n",
        "        if fname.endswith('.jpg') or fname.endswith('.png') or fname.endswith('.jpg.png')\n",
        "    ]\n",
        ")\n",
        "target_img_paths = sorted(\n",
        "    [\n",
        "        os.path.join(target_dir, fname)\n",
        "        for fname in os.listdir(target_dir)\n",
        "        if fname.endswith('.jpg') or fname.endswith('.png') or fname.endswith('.jpg.png') and not fname.startswith(\".\")\n",
        "    ]\n",
        ")\n",
        "\n",
        "print(\"Number of samples:\", len(input_img_paths))\n",
        "\n",
        "for input_path, target_path in zip(input_img_paths[:10], target_img_paths[:10]):\n",
        "    print(input_path, \"|\", target_path)"
      ]
    },
    {
      "cell_type": "code",
      "execution_count": null,
      "metadata": {
        "id": "7tbegITbI1M1"
      },
      "outputs": [],
      "source": [
        "from tensorflow import keras\n",
        "import numpy as np\n",
        "from tensorflow.keras.preprocessing.image import load_img\n",
        "\n",
        "\n",
        "class OxfordPets(keras.utils.Sequence):\n",
        "    \"\"\"Helper to iterate over the data (as Numpy arrays).\"\"\"\n",
        "\n",
        "    def __init__(self, batch_size, img_size, input_img_paths, target_img_paths):\n",
        "        self.batch_size = batch_size\n",
        "        self.img_size = img_size\n",
        "        self.input_img_paths = input_img_paths\n",
        "        self.target_img_paths = target_img_paths\n",
        "\n",
        "    def __len__(self):\n",
        "        return len(self.target_img_paths) // self.batch_size\n",
        "\n",
        "    def __getitem__(self, idx):\n",
        "        \"\"\"Returns tuple (input, target) correspond to batch #idx.\"\"\"\n",
        "        i = idx * self.batch_size\n",
        "        batch_input_img_paths = self.input_img_paths[i : i + self.batch_size]\n",
        "        batch_target_img_paths = self.target_img_paths[i : i + self.batch_size]\n",
        "        x = np.zeros((self.batch_size,) + self.img_size + (3,), dtype=\"float32\")\n",
        "        for j, path in enumerate(batch_input_img_paths):\n",
        "            img = load_img(path, target_size=self.img_size)\n",
        "            x[j] = img\n",
        "        y = np.zeros((self.batch_size,) + self.img_size + (1,), dtype=\"uint8\")\n",
        "        for j, path in enumerate(batch_target_img_paths):\n",
        "            img = load_img(path, target_size=self.img_size, color_mode=\"grayscale\")\n",
        "            y[j] = np.expand_dims(img, 2)\n",
        "            y[j] = np.where(y[j] > 0, 1, 0)  # convert to binary mask\n",
        "        return x, y"
      ]
    },
    {
      "cell_type": "code",
      "execution_count": null,
      "metadata": {
        "id": "zTEp6A44JAC1"
      },
      "outputs": [],
      "source": [
        "import random\n",
        "\n",
        "# Split our img paths into a training, validation, and test set\n",
        "val_samples = 1000\n",
        "test_samples = 500\n",
        "random.Random(1337).shuffle(input_img_paths)\n",
        "random.Random(1337).shuffle(target_img_paths)\n",
        "train_input_img_paths = input_img_paths[:-val_samples - test_samples]\n",
        "train_target_img_paths = target_img_paths[:-val_samples - test_samples]\n",
        "val_input_img_paths = input_img_paths[-val_samples - test_samples:-test_samples]\n",
        "val_target_img_paths = target_img_paths[-val_samples - test_samples:-test_samples]\n",
        "test_input_img_paths = input_img_paths[-test_samples:]\n",
        "test_target_img_paths = target_img_paths[-test_samples:]\n",
        "\n",
        "# Instantiate data Sequences for each split\n",
        "train_gen = OxfordPets(\n",
        "    batch_size, img_size, train_input_img_paths, train_target_img_paths\n",
        ")\n",
        "val_gen = OxfordPets(batch_size, img_size, val_input_img_paths, val_target_img_paths)\n",
        "test_gen = OxfordPets(batch_size, img_size, test_input_img_paths, test_target_img_paths)\n"
      ]
    },
    {
      "cell_type": "code",
      "execution_count": null,
      "metadata": {
        "colab": {
          "base_uri": "https://localhost:8080/"
        },
        "id": "BPQxm1iKQG4s",
        "outputId": "368eb51b-0558-4118-f9b7-54ae5f059504"
      },
      "outputs": [
        {
          "output_type": "stream",
          "name": "stdout",
          "text": [
            "Looking in indexes: https://pypi.org/simple, https://us-python.pkg.dev/colab-wheels/public/simple/\n",
            "Collecting lime\n",
            "  Downloading lime-0.2.0.1.tar.gz (275 kB)\n",
            "\u001b[2K     \u001b[90m━━━━━━━━━━━━━━━━━━━━━━━━━━━━━━━━━━━━━━\u001b[0m \u001b[32m275.7/275.7 kB\u001b[0m \u001b[31m14.6 MB/s\u001b[0m eta \u001b[36m0:00:00\u001b[0m\n",
            "\u001b[?25h  Preparing metadata (setup.py) ... \u001b[?25l\u001b[?25hdone\n",
            "Requirement already satisfied: matplotlib in /usr/local/lib/python3.10/dist-packages (from lime) (3.7.1)\n",
            "Requirement already satisfied: numpy in /usr/local/lib/python3.10/dist-packages (from lime) (1.22.4)\n",
            "Requirement already satisfied: scipy in /usr/local/lib/python3.10/dist-packages (from lime) (1.10.1)\n",
            "Requirement already satisfied: tqdm in /usr/local/lib/python3.10/dist-packages (from lime) (4.65.0)\n",
            "Requirement already satisfied: scikit-learn>=0.18 in /usr/local/lib/python3.10/dist-packages (from lime) (1.2.2)\n",
            "Requirement already satisfied: scikit-image>=0.12 in /usr/local/lib/python3.10/dist-packages (from lime) (0.19.3)\n",
            "Requirement already satisfied: networkx>=2.2 in /usr/local/lib/python3.10/dist-packages (from scikit-image>=0.12->lime) (3.1)\n",
            "Requirement already satisfied: pillow!=7.1.0,!=7.1.1,!=8.3.0,>=6.1.0 in /usr/local/lib/python3.10/dist-packages (from scikit-image>=0.12->lime) (8.4.0)\n",
            "Requirement already satisfied: imageio>=2.4.1 in /usr/local/lib/python3.10/dist-packages (from scikit-image>=0.12->lime) (2.25.1)\n",
            "Requirement already satisfied: tifffile>=2019.7.26 in /usr/local/lib/python3.10/dist-packages (from scikit-image>=0.12->lime) (2023.4.12)\n",
            "Requirement already satisfied: PyWavelets>=1.1.1 in /usr/local/lib/python3.10/dist-packages (from scikit-image>=0.12->lime) (1.4.1)\n",
            "Requirement already satisfied: packaging>=20.0 in /usr/local/lib/python3.10/dist-packages (from scikit-image>=0.12->lime) (23.1)\n",
            "Requirement already satisfied: joblib>=1.1.1 in /usr/local/lib/python3.10/dist-packages (from scikit-learn>=0.18->lime) (1.2.0)\n",
            "Requirement already satisfied: threadpoolctl>=2.0.0 in /usr/local/lib/python3.10/dist-packages (from scikit-learn>=0.18->lime) (3.1.0)\n",
            "Requirement already satisfied: contourpy>=1.0.1 in /usr/local/lib/python3.10/dist-packages (from matplotlib->lime) (1.0.7)\n",
            "Requirement already satisfied: cycler>=0.10 in /usr/local/lib/python3.10/dist-packages (from matplotlib->lime) (0.11.0)\n",
            "Requirement already satisfied: fonttools>=4.22.0 in /usr/local/lib/python3.10/dist-packages (from matplotlib->lime) (4.39.3)\n",
            "Requirement already satisfied: kiwisolver>=1.0.1 in /usr/local/lib/python3.10/dist-packages (from matplotlib->lime) (1.4.4)\n",
            "Requirement already satisfied: pyparsing>=2.3.1 in /usr/local/lib/python3.10/dist-packages (from matplotlib->lime) (3.0.9)\n",
            "Requirement already satisfied: python-dateutil>=2.7 in /usr/local/lib/python3.10/dist-packages (from matplotlib->lime) (2.8.2)\n",
            "Requirement already satisfied: six>=1.5 in /usr/local/lib/python3.10/dist-packages (from python-dateutil>=2.7->matplotlib->lime) (1.16.0)\n",
            "Building wheels for collected packages: lime\n",
            "  Building wheel for lime (setup.py) ... \u001b[?25l\u001b[?25hdone\n",
            "  Created wheel for lime: filename=lime-0.2.0.1-py3-none-any.whl size=283839 sha256=2a663bc4a293797a41017e43645db1f735d89013504b546c1ec95067a742bff1\n",
            "  Stored in directory: /root/.cache/pip/wheels/fd/a2/af/9ac0a1a85a27f314a06b39e1f492bee1547d52549a4606ed89\n",
            "Successfully built lime\n",
            "Installing collected packages: lime\n",
            "Successfully installed lime-0.2.0.1\n"
          ]
        }
      ],
      "source": [
        "pip install lime"
      ]
    },
    {
      "cell_type": "code",
      "execution_count": null,
      "metadata": {
        "id": "qVa0FweCfOCF"
      },
      "outputs": [],
      "source": [
        "import tensorflow as tf\n",
        "def iou_score(y_true, y_pred):\n",
        "    y_true = tf.cast(y_true, tf.float32)\n",
        "    intersection = tf.reduce_sum(tf.multiply(y_true, y_pred))\n",
        "    union = tf.reduce_sum(tf.subtract(tf.add(y_true, y_pred), tf.multiply(y_true, y_pred)))\n",
        "    iou = tf.where(tf.equal(union, 0), 0.0, tf.divide(intersection, union))\n",
        "    return iou\n",
        "\n",
        "# Define IOU score metric\n",
        "def iou_loss(y_true, y_pred):\n",
        "    y_true = tf.cast(y_true, tf.float32)\n",
        "    intersection = tf.reduce_sum(tf.multiply(y_true, y_pred))\n",
        "    union = tf.reduce_sum(tf.subtract(tf.add(y_true, y_pred), tf.multiply(y_true, y_pred)))\n",
        "    iou = tf.where(tf.equal(union, 0), 0.0, tf.divide(intersection, union))\n",
        "    return 1.0 - iou\n",
        "\n",
        "from tensorflow.keras.optimizers import SGD\n",
        "\n",
        "# Create an instance of the SGD optimizer with desired parameters\n",
        "sgd_optimizer = SGD(learning_rate=0.1, momentum=0.5)\n",
        "from tensorflow.keras.preprocessing.image import load_img\n",
        "# Compile the model using the SGD optimizer\n",
        "model.compile(optimizer=sgd_optimizer, loss=iou_loss, metrics=iou_score)"
      ]
    },
    {
      "cell_type": "code",
      "execution_count": null,
      "metadata": {
        "colab": {
          "base_uri": "https://localhost:8080/"
        },
        "id": "RaG4xYojUw8r",
        "outputId": "555a2358-b84c-4c1e-8033-411da014c74a"
      },
      "outputs": [
        {
          "output_type": "stream",
          "name": "stdout",
          "text": [
            "Epoch 1/10\n",
            "112/112 [==============================] - 166s 1s/step - loss: 0.1325 - iou_score: 0.8675 - val_loss: 0.1167 - val_iou_score: 0.8833\n",
            "Epoch 2/10\n",
            "112/112 [==============================] - 114s 1s/step - loss: 0.1324 - iou_score: 0.8676 - val_loss: 0.1166 - val_iou_score: 0.8834\n",
            "Epoch 3/10\n",
            "112/112 [==============================] - 114s 1s/step - loss: 0.1323 - iou_score: 0.8677 - val_loss: 0.1165 - val_iou_score: 0.8835\n",
            "Epoch 4/10\n",
            "112/112 [==============================] - 114s 1s/step - loss: 0.1322 - iou_score: 0.8678 - val_loss: 0.1163 - val_iou_score: 0.8837\n",
            "Epoch 5/10\n",
            "112/112 [==============================] - 114s 1s/step - loss: 0.1320 - iou_score: 0.8680 - val_loss: 0.1162 - val_iou_score: 0.8838\n",
            "Epoch 6/10\n",
            "112/112 [==============================] - 114s 1s/step - loss: 0.1319 - iou_score: 0.8681 - val_loss: 0.1161 - val_iou_score: 0.8839\n",
            "Epoch 7/10\n",
            "112/112 [==============================] - 114s 1s/step - loss: 0.1318 - iou_score: 0.8682 - val_loss: 0.1159 - val_iou_score: 0.8841\n",
            "Epoch 8/10\n",
            "112/112 [==============================] - 114s 1s/step - loss: 0.1317 - iou_score: 0.8683 - val_loss: 0.1158 - val_iou_score: 0.8842\n",
            "Epoch 9/10\n",
            "112/112 [==============================] - 124s 1s/step - loss: 0.1315 - iou_score: 0.8685 - val_loss: 0.1157 - val_iou_score: 0.8843\n",
            "Epoch 10/10\n",
            "112/112 [==============================] - 114s 1s/step - loss: 0.1314 - iou_score: 0.8686 - val_loss: 0.1156 - val_iou_score: 0.8844\n"
          ]
        }
      ],
      "source": [
        "# Train the model, doing validation at the end of each epoch.\n",
        "epochs = 10\n",
        "model = tf.keras.models.load_model('/content/drive/My Drive/segmmodel.h5', compile=False)\n",
        "model.compile(optimizer='sgd', loss=iou_loss, metrics=[iou_score])\n",
        "history=model.fit(train_gen, epochs=epochs, validation_data=val_gen)"
      ]
    },
    {
      "cell_type": "code",
      "execution_count": null,
      "metadata": {
        "id": "ZK2A3XlBNARO",
        "colab": {
          "base_uri": "https://localhost:8080/",
          "height": 34
        },
        "outputId": "a8c55a4e-3d4d-4d87-a5aa-f9040741ef5b"
      },
      "outputs": [
        {
          "output_type": "display_data",
          "data": {
            "text/plain": [
              "<IPython.core.display.Javascript object>"
            ],
            "application/javascript": [
              "\n",
              "    async function download(id, filename, size) {\n",
              "      if (!google.colab.kernel.accessAllowed) {\n",
              "        return;\n",
              "      }\n",
              "      const div = document.createElement('div');\n",
              "      const label = document.createElement('label');\n",
              "      label.textContent = `Downloading \"${filename}\": `;\n",
              "      div.appendChild(label);\n",
              "      const progress = document.createElement('progress');\n",
              "      progress.max = size;\n",
              "      div.appendChild(progress);\n",
              "      document.body.appendChild(div);\n",
              "\n",
              "      const buffers = [];\n",
              "      let downloaded = 0;\n",
              "\n",
              "      const channel = await google.colab.kernel.comms.open(id);\n",
              "      // Send a message to notify the kernel that we're ready.\n",
              "      channel.send({})\n",
              "\n",
              "      for await (const message of channel.messages) {\n",
              "        // Send a message to notify the kernel that we're ready.\n",
              "        channel.send({})\n",
              "        if (message.buffers) {\n",
              "          for (const buffer of message.buffers) {\n",
              "            buffers.push(buffer);\n",
              "            downloaded += buffer.byteLength;\n",
              "            progress.value = downloaded;\n",
              "          }\n",
              "        }\n",
              "      }\n",
              "      const blob = new Blob(buffers, {type: 'application/binary'});\n",
              "      const a = document.createElement('a');\n",
              "      a.href = window.URL.createObjectURL(blob);\n",
              "      a.download = filename;\n",
              "      div.appendChild(a);\n",
              "      a.click();\n",
              "      div.remove();\n",
              "    }\n",
              "  "
            ]
          },
          "metadata": {}
        },
        {
          "output_type": "display_data",
          "data": {
            "text/plain": [
              "<IPython.core.display.Javascript object>"
            ],
            "application/javascript": [
              "download(\"download_efc94a61-6eea-432b-8158-912be16697ff\", \"segmentationsgd.h5\", 30113856)"
            ]
          },
          "metadata": {}
        }
      ],
      "source": [
        "model.save('segmentationsgd.h5')\n",
        "from google.colab import files\n",
        "\n",
        "files.download('segmentationsgd.h5')"
      ]
    },
    {
      "cell_type": "code",
      "execution_count": null,
      "metadata": {
        "id": "p5PVplEoCOvU",
        "colab": {
          "base_uri": "https://localhost:8080/"
        },
        "outputId": "965a1ce0-ec9d-4d58-eb9d-cba726efd32d"
      },
      "outputs": [
        {
          "output_type": "stream",
          "name": "stdout",
          "text": [
            "125/125 [==============================] - 32s 258ms/step\n"
          ]
        }
      ],
      "source": [
        "# Generate predictions for all images in the validation set\n",
        "\n",
        "val_gen = OxfordPets(batch_size, img_size, val_input_img_paths, val_target_img_paths)\n",
        "\n",
        "val_preds = model.predict(val_gen)"
      ]
    },
    {
      "cell_type": "code",
      "execution_count": null,
      "metadata": {
        "id": "tnHN55HknjJ3",
        "colab": {
          "base_uri": "https://localhost:8080/",
          "height": 754
        },
        "outputId": "98d0e3ec-9ba8-46ac-d3a8-610209936bff"
      },
      "outputs": [
        {
          "output_type": "display_data",
          "data": {
            "text/plain": [
              "<Figure size 800x800 with 2 Axes>"
            ],
            "image/png": "[encoded data removed]"
          },
          "metadata": {}
        },
        {
          "output_type": "stream",
          "name": "stdout",
          "text": [
            "62/62 - 302s - loss: 0.1227 - iou_score: 0.8773 - 302s/epoch - 5s/step\n",
            "\n",
            "Test accuracy: 0.8773395419120789\n"
          ]
        }
      ],
      "source": [
        "import matplotlib.pyplot as plt\n",
        "# loss and accuracy plot\n",
        "\n",
        "acc = history.history['iou_score']\n",
        "val_acc = history.history['val_iou_score']\n",
        "\n",
        "loss = history.history['loss']\n",
        "val_loss = history.history['val_loss']\n",
        "\n",
        "epochs_range = range(10)\n",
        "\n",
        "plt.figure(figsize=(8, 8))\n",
        "plt.subplot(1, 2, 1)\n",
        "plt.plot(epochs_range, acc, label='Training Accuracy')\n",
        "plt.plot(epochs_range, val_acc, label='Validation Accuracy')\n",
        "plt.legend(loc='lower right')\n",
        "plt.title('Training and Validation Accuracy')\n",
        "\n",
        "plt.subplot(1, 2, 2)\n",
        "plt.plot(epochs_range, loss, label='Training Loss')\n",
        "plt.plot(epochs_range, val_loss, label='Validation Loss')\n",
        "plt.legend(loc='upper right')\n",
        "plt.title('Training and Validation Loss')\n",
        "plt.show()\n",
        "\n",
        "\n",
        "# testing model with mlp\n",
        "test_loss, test_acc = model.evaluate(test_gen, verbose=2)\n",
        "print('\\nTest accuracy:', test_acc)"
      ]
    },
    {
      "cell_type": "code",
      "execution_count": null,
      "metadata": {
        "id": "Xx946MdfDuUZ"
      },
      "outputs": [],
      "source": [
        "from IPython.display import Image, display\n",
        "import PIL\n",
        "\n",
        "# Define the target size of the model's input images\n",
        "target_size = (512, 512)\n",
        "\n",
        "def display_mask(i):\n",
        "    \"\"\"Quick utility to display a model's prediction.\"\"\"\n",
        "    mask = np.argmax(val_preds[i], axis=-1)\n",
        "    mask = np.expand_dims(mask, axis=-1)\n",
        "    mask = PIL.Image.fromarray(np.uint8(mask.squeeze() * 255))\n",
        "    mask = mask.resize(target_size)\n",
        "    mask = mask.convert('RGBA')\n",
        "    plt.imshow(mask)\n",
        "    plt.axis('off')\n",
        "    plt.show()\n",
        "\n",
        "# Display results for validation image #10\n",
        "for i in range(125):\n",
        "  # Load the input image and resize it to the target size\n",
        "  img = load_img(val_input_img_paths[i], target_size=target_size)\n",
        "\n",
        "  # Load the ground-truth target mask and resize it to the target size\n",
        "  mask = load_img(val_target_img_paths[i], color_mode='grayscale', target_size=target_size)\n",
        "\n",
        "  # Display input image\n",
        "  display(img)\n",
        "\n",
        "  # Display ground-truth target mask\n",
        "  img = PIL.ImageOps.autocontrast(mask)\n",
        "  display(img)\n",
        "\n",
        "  # Display mask predicted by our model\n",
        "  display_mask(i)"
      ]
    },
    {
      "cell_type": "code",
      "execution_count": null,
      "metadata": {
        "id": "vzH7YQr6P1yu"
      },
      "outputs": [],
      "source": [
        "print(val_preds)"
      ]
    },
    {
      "cell_type": "code",
      "execution_count": null,
      "metadata": {
        "id": "ONP6fYVbBJKR"
      },
      "outputs": [],
      "source": [
        "import tensorflow as tf\n",
        "import numpy as np\n",
        "import matplotlib.pyplot as plt\n",
        "from tensorflow.keras.preprocessing.image import load_img, img_to_array\n",
        "import os\n",
        "from google.colab import drive\n",
        "\n",
        "drive.mount('/content/drive')\n",
        "img_path = '/content/drive/My Drive/image/image/MaI14_009.jpg.png'  # Image path\n",
        "model = tf.keras.models.load_model('/content/drive/My Drive/segmmodel.h5', compile=False)\n",
        "model.compile(optimizer='sgd', loss=iou_loss, metrics=[iou_score])\n",
        "# Load the input image\n",
        "img = load_img(img_path, target_size=(512, 512,3))\n",
        "img_array = img_to_array(img)\n",
        "img_array = tf.keras.applications.vgg16.preprocess_input(img_array)\n",
        "x = img_array.reshape((1,) + img_array.shape)\n",
        "x /= 255.0\n",
        "\n",
        "# Define a new model, Input=image, Output=intermediate representations for all layers in the previous model after the first\n",
        "successive_outputs = [layer.output for layer in model.layers[1:]]\n",
        "visualization_model = tf.keras.models.Model(inputs=model.input, outputs=successive_outputs)\n",
        "\n",
        "# Run the input image through the visualization model to obtain all intermediate representations\n",
        "successive_feature_maps = visualization_model.predict(x)\n",
        "\n",
        "# Retrieve the names of the layers\n",
        "layer_names = [layer.name for layer in model.layers]\n",
        "\n",
        "for layer_name, feature_map in zip(layer_names, successive_feature_maps):\n",
        "    print(feature_map.shape)\n",
        "    if len(feature_map.shape) == 4:\n",
        "        # Plot feature maps for the conv / maxpool layers, not the fully-connected layers\n",
        "        n_features = feature_map.shape[-1]  # Number of features in the feature map\n",
        "        size = feature_map.shape[1]  # Feature map shape (1, size, size, n_features)\n",
        "\n",
        "        # Create a grid to display the feature maps\n",
        "        display_grid = np.zeros((size, size * n_features))\n",
        "\n",
        "        # Postprocess the feature maps for visualization\n",
        "        for i in range(n_features):\n",
        "            x = feature_map[0, :, :, i]\n",
        "            x -= x.mean()\n",
        "            x /= x.std()\n",
        "            x *= 64\n",
        "            x += 128\n",
        "            x = np.clip(x, 0, 255).astype('uint8')\n",
        "            # Tile each filter into a horizontal grid\n",
        "            display_grid[:, i * size: (i + 1) * size] = x\n",
        "\n",
        "        # Display the grid\n",
        "        scale = 20. / n_features\n",
        "        plt.figure(figsize=(scale * n_features, scale))\n",
        "        plt.title(layer_name)\n",
        "        plt.grid(False)\n",
        "        plt.imshow(display_grid, aspect='auto', cmap='viridis')\n",
        "\n",
        "# Print the shape of the last feature map and the output shape of the model\n",
        "print('Last feature map shape:', successive_feature_maps[-1].shape)\n",
        "print('Output shape:', model.output_shape)\n"
      ]
    },
    {
      "cell_type": "code",
      "execution_count": null,
      "metadata": {
        "id": "J_i-FS6GhUXb"
      },
      "outputs": [],
      "source": [
        "import tensorflow as tf\n",
        "from PIL import Image\n",
        "import numpy as np\n",
        "import matplotlib.pyplot as plt\n",
        "import cv2\n",
        "from google.colab import drive\n",
        "\n",
        "drive.mount('/content/drive')\n",
        "def iou_score(y_true, y_pred):\n",
        "    y_true = tf.cast(y_true, tf.float32)\n",
        "    intersection = tf.reduce_sum(tf.multiply(y_true, y_pred))\n",
        "    union = tf.reduce_sum(tf.subtract(tf.add(y_true, y_pred), tf.multiply(y_true, y_pred)))\n",
        "    iou = tf.where(tf.equal(union, 0), 0.0, tf.divide(intersection, union))\n",
        "    return iou\n",
        "\n",
        "# Define IOU score metric\n",
        "def iou_loss(y_true, y_pred):\n",
        "    y_true = tf.cast(y_true, tf.float32)\n",
        "    intersection = tf.reduce_sum(tf.multiply(y_true, y_pred))\n",
        "    union = tf.reduce_sum(tf.subtract(tf.add(y_true, y_pred), tf.multiply(y_true, y_pred)))\n",
        "    iou = tf.where(tf.equal(union, 0), 0.0, tf.divide(intersection, union))\n",
        "    return 1.0 - iou\n",
        "\n",
        "# Load the model\n",
        "model = tf.keras.models.load_model('/content/drive/My Drive/segmmodel.h5', compile=False)\n",
        "model.compile(optimizer='sgd', loss=iou_loss, metrics=[iou_score])\n",
        "\n",
        "# Define the target size of the model's input images\n",
        "target_size = (512, 512)\n",
        "\n",
        "# Function to preprocess the image\n",
        "def preprocess_image(image_path):\n",
        "    image = Image.open(image_path)\n",
        "    original_image = image.copy()  # Make a copy of the original image\n",
        "    image = image.resize(target_size)\n",
        "    image = np.array(image)\n",
        "    image = image / 255.0  # Normalize the image\n",
        "    image = np.expand_dims(image, axis=0)  # Add batch dimension\n",
        "    return image, original_image\n",
        "\n",
        "# Function to resize segmentation mask to original image size\n",
        "def resize_segmentation(segmentation_mask, original_size):\n",
        "    resized_mask = cv2.resize(segmentation_mask, original_size, interpolation=cv2.INTER_NEAREST)\n",
        "    return resized_mask\n",
        "\n",
        "# Function to resize preprocessed image to original image size\n",
        "def resize_image(preprocessed_image, original_size):\n",
        "    resized_image = cv2.resize(preprocessed_image, original_size, interpolation=cv2.INTER_LINEAR)\n",
        "    return resized_image\n",
        "\n",
        "# Function to predict image segmentation\n",
        "def predict_segmentation(image_path):\n",
        "    # Preprocess the image\n",
        "    image, original_image = preprocess_image(image_path)\n",
        "\n",
        "    # Perform prediction\n",
        "    prediction = model.predict(image)\n",
        "\n",
        "    # Convert prediction to segmentation mask\n",
        "    segmentation_mask = np.argmax(prediction, axis=-1)\n",
        "\n",
        "    return segmentation_mask, original_image\n",
        "\n",
        "# Example usage\n",
        "image_path = '/content/drive/My Drive/image/image/MaI14_034.jpg.png'\n",
        "\n",
        "# Preprocess the image and get the original image\n",
        "segmentation_mask, original_image = predict_segmentation(image_path)\n",
        "\n",
        "# Get the original image size\n",
        "original_size = original_image.size\n",
        "\n",
        "# Resize the segmentation mask to the original image size\n",
        "resized_segmentation_mask = resize_segmentation(segmentation_mask[0], original_size)\n",
        "\n",
        "\n",
        "# Display the original image\n",
        "plt.imshow(original_image)\n",
        "plt.axis('off')\n",
        "plt.show()\n",
        "\n",
        "\n",
        "# Display the resized segmentation mask\n",
        "plt.imshow(resized_segmentation_mask, cmap='gray')\n",
        "plt.axis('off')\n",
        "plt.show()\n"
      ]
    }
  ],
  "metadata": {
    "accelerator": "GPU",
    "colab": {
      "provenance": []
    },
    "gpuClass": "standard",
    "kernelspec": {
      "display_name": "Python 3",
      "name": "python3"
    },
    "language_info": {
      "name": "python"
    }
  },
  "nbformat": 4,
  "nbformat_minor": 0
}